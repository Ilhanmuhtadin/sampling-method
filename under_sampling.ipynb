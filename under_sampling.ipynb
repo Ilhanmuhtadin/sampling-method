{
 "cells": [
  {
   "cell_type": "code",
   "execution_count": 1,
   "id": "9d15bdbb",
   "metadata": {},
   "outputs": [],
   "source": [
    "import pandas as pd \n",
    "import numpy as np\n",
    "import seaborn as sns\n"
   ]
  },
  {
   "cell_type": "code",
   "execution_count": 2,
   "id": "1debaa93",
   "metadata": {},
   "outputs": [
    {
     "data": {
      "text/html": [
       "<div>\n",
       "<style scoped>\n",
       "    .dataframe tbody tr th:only-of-type {\n",
       "        vertical-align: middle;\n",
       "    }\n",
       "\n",
       "    .dataframe tbody tr th {\n",
       "        vertical-align: top;\n",
       "    }\n",
       "\n",
       "    .dataframe thead th {\n",
       "        text-align: right;\n",
       "    }\n",
       "</style>\n",
       "<table border=\"1\" class=\"dataframe\">\n",
       "  <thead>\n",
       "    <tr style=\"text-align: right;\">\n",
       "      <th></th>\n",
       "      <th>age</th>\n",
       "      <th>physical_score</th>\n",
       "      <th>test_result</th>\n",
       "    </tr>\n",
       "  </thead>\n",
       "  <tbody>\n",
       "    <tr>\n",
       "      <th>0</th>\n",
       "      <td>33.0</td>\n",
       "      <td>40.7</td>\n",
       "      <td>1</td>\n",
       "    </tr>\n",
       "    <tr>\n",
       "      <th>1</th>\n",
       "      <td>50.0</td>\n",
       "      <td>37.2</td>\n",
       "      <td>1</td>\n",
       "    </tr>\n",
       "    <tr>\n",
       "      <th>2</th>\n",
       "      <td>52.0</td>\n",
       "      <td>24.7</td>\n",
       "      <td>0</td>\n",
       "    </tr>\n",
       "    <tr>\n",
       "      <th>3</th>\n",
       "      <td>56.0</td>\n",
       "      <td>31.0</td>\n",
       "      <td>0</td>\n",
       "    </tr>\n",
       "    <tr>\n",
       "      <th>4</th>\n",
       "      <td>35.0</td>\n",
       "      <td>42.9</td>\n",
       "      <td>1</td>\n",
       "    </tr>\n",
       "  </tbody>\n",
       "</table>\n",
       "</div>"
      ],
      "text/plain": [
       "    age  physical_score  test_result\n",
       "0  33.0            40.7            1\n",
       "1  50.0            37.2            1\n",
       "2  52.0            24.7            0\n",
       "3  56.0            31.0            0\n",
       "4  35.0            42.9            1"
      ]
     },
     "execution_count": 2,
     "metadata": {},
     "output_type": "execute_result"
    }
   ],
   "source": [
    "df=pd.read_csv('hearing_test.csv')\n",
    "df.head()"
   ]
  },
  {
   "cell_type": "code",
   "execution_count": 6,
   "id": "d41edb72",
   "metadata": {},
   "outputs": [
    {
     "name": "stdout",
     "output_type": "stream",
     "text": [
      "Waktu eksekusi RandomUnderSampler: 0.013147354125976562 detik\n",
      "Waktu eksekusi NearMiss: 0.025572776794433594 detik\n",
      "Waktu eksekusi ClusterCentroids: 695.4120788574219 detik\n"
     ]
    },
    {
     "name": "stderr",
     "output_type": "stream",
     "text": [
      "C:\\Users\\ACER\\AppData\\Roaming\\Python\\Python39\\site-packages\\imblearn\\under_sampling\\_prototype_generation\\_cluster_centroids.py:178: ConvergenceWarning: Number of distinct clusters (1774) found smaller than n_clusters (2000). Possibly due to duplicate points in X.\n",
      "  self.estimator_.fit(_safe_indexing(X, target_class_indices))\n"
     ]
    }
   ],
   "source": [
    "import time\n",
    "from imblearn.under_sampling import RandomUnderSampler, NearMiss, ClusterCentroids\n",
    "\n",
    "# Menggunakan RandomUnderSampler\n",
    "start_time = time.time()\n",
    "rus = RandomUnderSampler()\n",
    "X_resampled_rus, y_resampled_rus = rus.fit_resample(df.drop('test_result', axis=1), df['test_result'])\n",
    "end_time = time.time()\n",
    "rus_execution_time = end_time - start_time\n",
    "print(\"Waktu eksekusi RandomUnderSampler:\", rus_execution_time, \"detik\")\n",
    "\n",
    "# Menggunakan NearMiss\n",
    "start_time = time.time()\n",
    "nm = NearMiss()\n",
    "X_resampled_nm, y_resampled_nm = nm.fit_resample(df.drop('test_result', axis=1), df['test_result'])\n",
    "end_time = time.time()\n",
    "nm_execution_time = end_time - start_time\n",
    "print(\"Waktu eksekusi NearMiss:\", nm_execution_time, \"detik\")\n",
    "\n",
    "# Menggunakan ClusterCentroids\n",
    "start_time = time.time()\n",
    "cc = ClusterCentroids()\n",
    "X_resampled_cc, y_resampled_cc = cc.fit_resample(df.drop('test_result', axis=1), df['test_result'])\n",
    "end_time = time.time()\n",
    "cc_execution_time = end_time - start_time\n",
    "print(\"Waktu eksekusi ClusterCentroids:\", cc_execution_time, \"detik\")\n"
   ]
  },
  {
   "cell_type": "code",
   "execution_count": null,
   "id": "8cfba4fc",
   "metadata": {},
   "outputs": [],
   "source": []
  }
 ],
 "metadata": {
  "kernelspec": {
   "display_name": "Python 3 (ipykernel)",
   "language": "python",
   "name": "python3"
  },
  "language_info": {
   "codemirror_mode": {
    "name": "ipython",
    "version": 3
   },
   "file_extension": ".py",
   "mimetype": "text/x-python",
   "name": "python",
   "nbconvert_exporter": "python",
   "pygments_lexer": "ipython3",
   "version": "3.9.12"
  }
 },
 "nbformat": 4,
 "nbformat_minor": 5
}
